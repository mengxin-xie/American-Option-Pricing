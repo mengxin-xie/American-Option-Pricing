{
 "cells": [
  {
   "cell_type": "code",
   "execution_count": 1,
   "metadata": {
    "collapsed": true,
    "ExecuteTime": {
     "end_time": "2024-08-27T08:16:19.841707300Z",
     "start_time": "2024-08-27T08:16:11.914538800Z"
    }
   },
   "outputs": [],
   "source": [
    "import numpy as np\n",
    "from sklearn.linear_model import LinearRegression"
   ]
  },
  {
   "cell_type": "code",
   "execution_count": 2,
   "outputs": [],
   "source": [
    "def simulate_gbm(Total_paths, steps_per_year, T, S0, mu, sigma):\n",
    "\n",
    "    dt = 1/steps_per_year\n",
    "    dW = np.random.normal(0, np.sqrt(dt),size=(Total_paths,steps_per_year*T)).T\n",
    "    St = np.exp((mu-sigma ** 2 / 2) * dt + sigma * dW)\n",
    "    St = np.vstack([np.ones(Total_paths),St])\n",
    "    St[0] = S0\n",
    "    St = St.cumprod(axis=0)\n",
    "    return St"
   ],
   "metadata": {
    "collapsed": false,
    "ExecuteTime": {
     "end_time": "2024-08-27T08:16:19.845812900Z",
     "start_time": "2024-08-27T08:16:19.841707300Z"
    }
   }
  },
  {
   "cell_type": "code",
   "execution_count": 4,
   "outputs": [
    {
     "name": "stdout",
     "output_type": "stream",
     "text": [
      "4.4015537172268395 [4.1070147  4.293577   4.38969587 4.36360264 4.4044007  4.36566387\n",
      " 4.41176493 4.41114441 4.44006601 4.33973433 4.32049824 4.41036772\n",
      " 4.33957108 4.38731331 4.50767266 4.52381392 4.40376813 4.37731619\n",
      " 4.26216639 4.56173582 4.43324216 4.48258892 4.48177257 4.24760796\n",
      " 4.46708407 4.45216448 4.36319295 4.28011499 4.42944917 4.44266855\n",
      " 4.43076267 4.23337737 4.42737331 4.41193694 4.35591679 4.40866095\n",
      " 4.33712336 4.28599658 4.47820321 4.33776736 4.37874335 4.29983356\n",
      " 4.23187986 4.48043858 4.45245363 4.25355227 4.63270444 4.2931277\n",
      " 4.46766941 4.4216311  4.38719815 4.54983242 4.44881176 4.44202803\n",
      " 4.18220999 4.35902451 4.40033531 4.56126267 4.42730534 4.44649045\n",
      " 4.33299412 4.31532346 4.42929111 4.30262197 4.33503436 4.39170768\n",
      " 4.46417994 4.40660327 4.37480698 4.59629567 4.29687901 4.33208009\n",
      " 4.40746668 4.39626916 4.47938197 4.43030102 4.33932893 4.36437817\n",
      " 4.49857367 4.36742358 4.39198925 4.42517782 4.56805633 4.49279633\n",
      " 4.48274009 4.3716902  4.50796403 4.28010129 4.68556793 4.4591338\n",
      " 4.39296156 4.38944124 4.44034621 4.48417728 4.40454092 4.38057352\n",
      " 4.34205355 4.40491123 4.40729573 4.29779648]\n"
     ]
    }
   ],
   "source": [
    "# Parameter\n",
    "# number of exercise dates per year\n",
    "M = 50\n",
    "# total number of paths\n",
    "N = 100000\n",
    "# number of iterations\n",
    "n = 100\n",
    "# time in years\n",
    "T = 1\n",
    "# initial stock price\n",
    "S0 = 36\n",
    "# volatility\n",
    "sigma = 0.2\n",
    "# strike\n",
    "strike = 40\n",
    "# let the annual risk-free interest rate\n",
    "r = 0.06\n",
    "\n",
    "\n",
    "# discounted price for all iterations\n",
    "Price = [0]*n\n",
    "# path info from iteration 1 to current iteration - a dictionary with k as the key\n",
    "U = {k: np.zeros([3, 3]) for k in range(1, T*M + 1)}\n",
    "V = {k: np.zeros([3,]) for k in range(1, T*M + 1)}\n",
    "\n",
    "# model info for each time step - a dictionary with k as the key\n",
    "alphas = dict()\n",
    "\n",
    "\n",
    "# initializaiton:\n",
    "paths = simulate_gbm(int(N/n), M, T, S0, r, sigma)\n",
    "euro_discounted_prices = np.ones_like(paths) * np.exp(-r/M)\n",
    "final_payoff = strike - paths[-1]\n",
    "euro_discounted_prices[0] = np.where(final_payoff > 0, final_payoff, 0)\n",
    "euro_discounted_prices = euro_discounted_prices.cumprod(axis=0)\n",
    "euro_discounted_prices = euro_discounted_prices[::-1]\n",
    "for k in range(1, T*M+1):\n",
    "    x1 = paths[k]\n",
    "    x2 = x1*x1\n",
    "\n",
    "    xs = np.column_stack([x1,x2])\n",
    "\n",
    "    if k==T*M:\n",
    "        y = euro_discounted_prices[k]\n",
    "    else:\n",
    "        y = euro_discounted_prices[k+1] * np.exp(-r/M)\n",
    "    model_sklearn = LinearRegression()\n",
    "    model = model_sklearn.fit(xs, y)\n",
    "    alphas[k] = np.append(np.array([model.intercept_]),model.coef_)\n",
    "\n",
    "\n",
    "for i in range(1, n+1):\n",
    "    # for one interation\n",
    "    # step 1: paths simulation\n",
    "    paths =simulate_gbm(int(N/n), M, T, S0, r, sigma)\n",
    "\n",
    "    # step 2.1: payoff value calculation\n",
    "    payoff_values = strike - paths\n",
    "    payoff_values[payoff_values<0] = 0\n",
    "    # step 2.2: continuation value estimate:\n",
    "    continuation_values = np.zeros_like(paths)\n",
    "    for k in range(1, T*M+1):\n",
    "        # in each time step, calculate the continuation values for different paths\n",
    "        # using corresponding regression model(alpha_k)\n",
    "        x0 = np.ones_like(paths[k]) # intercept\n",
    "        x1 = paths[k]\n",
    "        x2 = x1 * x1\n",
    "        xs = np.column_stack([x0, x1, x2])\n",
    "        continuation_values[k]= xs.dot(alphas[k])\n",
    "\n",
    "    # step 3: comparison between continuation value and exrecise value\n",
    "    discounted_price = payoff_values\n",
    "    for k in range(T*M-1, 0, -1):\n",
    "        no_exercise = discounted_price[k] < continuation_values[k]\n",
    "        discounted_price[k][no_exercise] = discounted_price[k+1][no_exercise] * np.exp(-r/M)\n",
    "\n",
    "    # step 4: sum of t=1 prices\n",
    "    Price[i-1]= np.exp(-r/M) * discounted_price[1].sum()\n",
    "\n",
    "    # step 5:update the regression models\n",
    "    for k in range(1, T*M+1):\n",
    "        x0 = np.ones_like(paths[k]) # intercept\n",
    "        x1 = paths[k]\n",
    "        x2 = x1 * x1\n",
    "        f_T = np.column_stack([x0, x1, x2])\n",
    "        f = f_T.T\n",
    "        if k == T*M:\n",
    "            y = discounted_price[k]\n",
    "        else:\n",
    "            y = discounted_price[k + 1] * np.exp(-r / M)\n",
    "\n",
    "        u = f.dot(f_T)\n",
    "        v = f.dot(y)\n",
    "\n",
    "        U[k] = U[k] + u\n",
    "        V[k] = V[k] + v\n",
    "\n",
    "        reg = np.linalg.lstsq(U[k], V[k], rcond=None)\n",
    "        alphas[k] = reg[0]\n",
    "\n",
    "\n",
    "# weights given to different iterations\n",
    "W = np.array([0.99*(i-1) for i in range(1,n+1)])\n",
    "W = np.tanh(W)\n",
    "W = 1 - 0.5 * (1 - W)\n",
    "\n",
    "Price = np.array(Price) / (N/n)\n",
    "Option_price = sum(Price * W) / W.sum()\n",
    "\n",
    "print(Option_price, Price)"
   ],
   "metadata": {
    "collapsed": false,
    "ExecuteTime": {
     "end_time": "2024-08-27T08:16:50.365677300Z",
     "start_time": "2024-08-27T08:16:48.479141300Z"
    }
   }
  }
 ],
 "metadata": {
  "kernelspec": {
   "display_name": "Python 3",
   "language": "python",
   "name": "python3"
  },
  "language_info": {
   "codemirror_mode": {
    "name": "ipython",
    "version": 2
   },
   "file_extension": ".py",
   "mimetype": "text/x-python",
   "name": "python",
   "nbconvert_exporter": "python",
   "pygments_lexer": "ipython2",
   "version": "2.7.6"
  }
 },
 "nbformat": 4,
 "nbformat_minor": 0
}
